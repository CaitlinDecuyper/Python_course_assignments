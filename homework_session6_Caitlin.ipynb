{
 "cells": [
  {
   "cell_type": "markdown",
   "metadata": {},
   "source": [
    "# Homework - Session 6\n",
    "\n",
    "Create an analysis-notebook for your experiment of choice. It should contain at least:\n",
    "\n",
    "* A table summarizing your data\n",
    "* A plot of your contrast of interest\n",
    "* A statistical test to determine its significance\n",
    "* Text boxes in markdown describing what you are doing\n",
    "\n"
   ]
  },
  {
   "cell_type": "markdown",
   "metadata": {},
   "source": [
    "### import modules"
   ]
  },
  {
   "cell_type": "code",
   "execution_count": 1,
   "metadata": {},
   "outputs": [],
   "source": [
    "import statistics\n",
    "import math\n",
    "import numpy as np\n",
    "import scipy.stats as stats\n",
    "import pandas as pd\n",
    "import matplotlib.pyplot as plt\n",
    "import seaborn as sns\n",
    "import os"
   ]
  },
  {
   "cell_type": "markdown",
   "metadata": {},
   "source": [
    "## 0. Preprocessing"
   ]
  },
  {
   "cell_type": "markdown",
   "metadata": {},
   "source": [
    "### import (dummy) data"
   ]
  },
  {
   "cell_type": "code",
   "execution_count": 2,
   "metadata": {},
   "outputs": [],
   "source": [
    "data = pd.read_csv('K:\\PhD\\IMPRScourses\\Python\\session5\\lexical-decision-master\\lexdec_results.csv')"
   ]
  },
  {
   "cell_type": "code",
   "execution_count": 3,
   "metadata": {},
   "outputs": [],
   "source": [
    "data.rename(columns= {'Unnamed: 0': 'trial_order'}, inplace = True) "
   ]
  },
  {
   "cell_type": "code",
   "execution_count": 5,
   "metadata": {},
   "outputs": [
    {
     "data": {
      "text/html": [
       "<div>\n",
       "<style scoped>\n",
       "    .dataframe tbody tr th:only-of-type {\n",
       "        vertical-align: middle;\n",
       "    }\n",
       "\n",
       "    .dataframe tbody tr th {\n",
       "        vertical-align: top;\n",
       "    }\n",
       "\n",
       "    .dataframe thead th {\n",
       "        text-align: right;\n",
       "    }\n",
       "</style>\n",
       "<table border=\"1\" class=\"dataframe\">\n",
       "  <thead>\n",
       "    <tr style=\"text-align: right;\">\n",
       "      <th></th>\n",
       "      <th>trial_order</th>\n",
       "      <th>id</th>\n",
       "      <th>word</th>\n",
       "      <th>frequency</th>\n",
       "      <th>duration</th>\n",
       "      <th>reaction_time</th>\n",
       "      <th>response</th>\n",
       "      <th>subject</th>\n",
       "      <th>accuracy</th>\n",
       "    </tr>\n",
       "  </thead>\n",
       "  <tbody>\n",
       "    <tr>\n",
       "      <th>0</th>\n",
       "      <td>0</td>\n",
       "      <td>102</td>\n",
       "      <td>labber</td>\n",
       "      <td>none</td>\n",
       "      <td>0.405079</td>\n",
       "      <td>0.740607</td>\n",
       "      <td>m</td>\n",
       "      <td>1</td>\n",
       "      <td>1</td>\n",
       "    </tr>\n",
       "    <tr>\n",
       "      <th>1</th>\n",
       "      <td>1</td>\n",
       "      <td>163</td>\n",
       "      <td>plond</td>\n",
       "      <td>none</td>\n",
       "      <td>0.567166</td>\n",
       "      <td>0.662209</td>\n",
       "      <td>m</td>\n",
       "      <td>1</td>\n",
       "      <td>1</td>\n",
       "    </tr>\n",
       "    <tr>\n",
       "      <th>2</th>\n",
       "      <td>2</td>\n",
       "      <td>175</td>\n",
       "      <td>nergen</td>\n",
       "      <td>none</td>\n",
       "      <td>0.544580</td>\n",
       "      <td>1.063122</td>\n",
       "      <td>m</td>\n",
       "      <td>1</td>\n",
       "      <td>1</td>\n",
       "    </tr>\n",
       "    <tr>\n",
       "      <th>3</th>\n",
       "      <td>3</td>\n",
       "      <td>99</td>\n",
       "      <td>bij</td>\n",
       "      <td>HF</td>\n",
       "      <td>0.332517</td>\n",
       "      <td>0.751887</td>\n",
       "      <td>z</td>\n",
       "      <td>1</td>\n",
       "      <td>1</td>\n",
       "    </tr>\n",
       "    <tr>\n",
       "      <th>4</th>\n",
       "      <td>4</td>\n",
       "      <td>94</td>\n",
       "      <td>gedaan</td>\n",
       "      <td>HF</td>\n",
       "      <td>0.624558</td>\n",
       "      <td>0.748802</td>\n",
       "      <td>z</td>\n",
       "      <td>1</td>\n",
       "      <td>1</td>\n",
       "    </tr>\n",
       "    <tr>\n",
       "      <th>...</th>\n",
       "      <td>...</td>\n",
       "      <td>...</td>\n",
       "      <td>...</td>\n",
       "      <td>...</td>\n",
       "      <td>...</td>\n",
       "      <td>...</td>\n",
       "      <td>...</td>\n",
       "      <td>...</td>\n",
       "      <td>...</td>\n",
       "    </tr>\n",
       "    <tr>\n",
       "      <th>795</th>\n",
       "      <td>195</td>\n",
       "      <td>50</td>\n",
       "      <td>gisten</td>\n",
       "      <td>LF</td>\n",
       "      <td>0.546621</td>\n",
       "      <td>0.785617</td>\n",
       "      <td>z</td>\n",
       "      <td>4</td>\n",
       "      <td>1</td>\n",
       "    </tr>\n",
       "    <tr>\n",
       "      <th>796</th>\n",
       "      <td>196</td>\n",
       "      <td>195</td>\n",
       "      <td>pirrel</td>\n",
       "      <td>none</td>\n",
       "      <td>0.361179</td>\n",
       "      <td>0.733906</td>\n",
       "      <td>m</td>\n",
       "      <td>4</td>\n",
       "      <td>1</td>\n",
       "    </tr>\n",
       "    <tr>\n",
       "      <th>797</th>\n",
       "      <td>197</td>\n",
       "      <td>24</td>\n",
       "      <td>wrongel</td>\n",
       "      <td>LF</td>\n",
       "      <td>0.538685</td>\n",
       "      <td>0.802661</td>\n",
       "      <td>m</td>\n",
       "      <td>4</td>\n",
       "      <td>0</td>\n",
       "    </tr>\n",
       "    <tr>\n",
       "      <th>798</th>\n",
       "      <td>198</td>\n",
       "      <td>128</td>\n",
       "      <td>kandola</td>\n",
       "      <td>none</td>\n",
       "      <td>0.500204</td>\n",
       "      <td>0.880469</td>\n",
       "      <td>m</td>\n",
       "      <td>4</td>\n",
       "      <td>1</td>\n",
       "    </tr>\n",
       "    <tr>\n",
       "      <th>799</th>\n",
       "      <td>199</td>\n",
       "      <td>88</td>\n",
       "      <td>werd</td>\n",
       "      <td>HF</td>\n",
       "      <td>0.482426</td>\n",
       "      <td>0.998699</td>\n",
       "      <td>m</td>\n",
       "      <td>4</td>\n",
       "      <td>0</td>\n",
       "    </tr>\n",
       "  </tbody>\n",
       "</table>\n",
       "<p>800 rows × 9 columns</p>\n",
       "</div>"
      ],
      "text/plain": [
       "     trial_order   id     word frequency  duration  reaction_time response  \\\n",
       "0              0  102   labber      none  0.405079       0.740607        m   \n",
       "1              1  163    plond      none  0.567166       0.662209        m   \n",
       "2              2  175   nergen      none  0.544580       1.063122        m   \n",
       "3              3   99      bij        HF  0.332517       0.751887        z   \n",
       "4              4   94   gedaan        HF  0.624558       0.748802        z   \n",
       "..           ...  ...      ...       ...       ...            ...      ...   \n",
       "795          195   50   gisten        LF  0.546621       0.785617        z   \n",
       "796          196  195   pirrel      none  0.361179       0.733906        m   \n",
       "797          197   24  wrongel        LF  0.538685       0.802661        m   \n",
       "798          198  128  kandola      none  0.500204       0.880469        m   \n",
       "799          199   88     werd        HF  0.482426       0.998699        m   \n",
       "\n",
       "     subject  accuracy  \n",
       "0          1         1  \n",
       "1          1         1  \n",
       "2          1         1  \n",
       "3          1         1  \n",
       "4          1         1  \n",
       "..       ...       ...  \n",
       "795        4         1  \n",
       "796        4         1  \n",
       "797        4         0  \n",
       "798        4         1  \n",
       "799        4         0  \n",
       "\n",
       "[800 rows x 9 columns]"
      ]
     },
     "execution_count": 5,
     "metadata": {},
     "output_type": "execute_result"
    }
   ],
   "source": [
    "data"
   ]
  },
  {
   "cell_type": "markdown",
   "metadata": {},
   "source": [
    "### replace NaN values"
   ]
  },
  {
   "cell_type": "code",
   "execution_count": 6,
   "metadata": {},
   "outputs": [
    {
     "name": "stdout",
     "output_type": "stream",
     "text": [
      "800\n"
     ]
    },
    {
     "data": {
      "text/html": [
       "<div>\n",
       "<style scoped>\n",
       "    .dataframe tbody tr th:only-of-type {\n",
       "        vertical-align: middle;\n",
       "    }\n",
       "\n",
       "    .dataframe tbody tr th {\n",
       "        vertical-align: top;\n",
       "    }\n",
       "\n",
       "    .dataframe thead th {\n",
       "        text-align: right;\n",
       "    }\n",
       "</style>\n",
       "<table border=\"1\" class=\"dataframe\">\n",
       "  <thead>\n",
       "    <tr style=\"text-align: right;\">\n",
       "      <th></th>\n",
       "      <th>trial_order</th>\n",
       "      <th>id</th>\n",
       "      <th>word</th>\n",
       "      <th>frequency</th>\n",
       "      <th>duration</th>\n",
       "      <th>reaction_time</th>\n",
       "      <th>response</th>\n",
       "      <th>subject</th>\n",
       "      <th>accuracy</th>\n",
       "    </tr>\n",
       "  </thead>\n",
       "  <tbody>\n",
       "    <tr>\n",
       "      <th>0</th>\n",
       "      <td>0</td>\n",
       "      <td>102</td>\n",
       "      <td>labber</td>\n",
       "      <td>none</td>\n",
       "      <td>0.405079</td>\n",
       "      <td>0.740607</td>\n",
       "      <td>m</td>\n",
       "      <td>1</td>\n",
       "      <td>1</td>\n",
       "    </tr>\n",
       "    <tr>\n",
       "      <th>1</th>\n",
       "      <td>1</td>\n",
       "      <td>163</td>\n",
       "      <td>plond</td>\n",
       "      <td>none</td>\n",
       "      <td>0.567166</td>\n",
       "      <td>0.662209</td>\n",
       "      <td>m</td>\n",
       "      <td>1</td>\n",
       "      <td>1</td>\n",
       "    </tr>\n",
       "    <tr>\n",
       "      <th>2</th>\n",
       "      <td>2</td>\n",
       "      <td>175</td>\n",
       "      <td>nergen</td>\n",
       "      <td>none</td>\n",
       "      <td>0.544580</td>\n",
       "      <td>1.063122</td>\n",
       "      <td>m</td>\n",
       "      <td>1</td>\n",
       "      <td>1</td>\n",
       "    </tr>\n",
       "    <tr>\n",
       "      <th>3</th>\n",
       "      <td>3</td>\n",
       "      <td>99</td>\n",
       "      <td>bij</td>\n",
       "      <td>HF</td>\n",
       "      <td>0.332517</td>\n",
       "      <td>0.751887</td>\n",
       "      <td>z</td>\n",
       "      <td>1</td>\n",
       "      <td>1</td>\n",
       "    </tr>\n",
       "    <tr>\n",
       "      <th>4</th>\n",
       "      <td>4</td>\n",
       "      <td>94</td>\n",
       "      <td>gedaan</td>\n",
       "      <td>HF</td>\n",
       "      <td>0.624558</td>\n",
       "      <td>0.748802</td>\n",
       "      <td>z</td>\n",
       "      <td>1</td>\n",
       "      <td>1</td>\n",
       "    </tr>\n",
       "    <tr>\n",
       "      <th>...</th>\n",
       "      <td>...</td>\n",
       "      <td>...</td>\n",
       "      <td>...</td>\n",
       "      <td>...</td>\n",
       "      <td>...</td>\n",
       "      <td>...</td>\n",
       "      <td>...</td>\n",
       "      <td>...</td>\n",
       "      <td>...</td>\n",
       "    </tr>\n",
       "    <tr>\n",
       "      <th>795</th>\n",
       "      <td>195</td>\n",
       "      <td>50</td>\n",
       "      <td>gisten</td>\n",
       "      <td>LF</td>\n",
       "      <td>0.546621</td>\n",
       "      <td>NaN</td>\n",
       "      <td>z</td>\n",
       "      <td>4</td>\n",
       "      <td>1</td>\n",
       "    </tr>\n",
       "    <tr>\n",
       "      <th>796</th>\n",
       "      <td>196</td>\n",
       "      <td>195</td>\n",
       "      <td>pirrel</td>\n",
       "      <td>none</td>\n",
       "      <td>0.361179</td>\n",
       "      <td>0.733906</td>\n",
       "      <td>m</td>\n",
       "      <td>4</td>\n",
       "      <td>1</td>\n",
       "    </tr>\n",
       "    <tr>\n",
       "      <th>797</th>\n",
       "      <td>197</td>\n",
       "      <td>24</td>\n",
       "      <td>wrongel</td>\n",
       "      <td>LF</td>\n",
       "      <td>0.538685</td>\n",
       "      <td>0.802661</td>\n",
       "      <td>m</td>\n",
       "      <td>4</td>\n",
       "      <td>0</td>\n",
       "    </tr>\n",
       "    <tr>\n",
       "      <th>798</th>\n",
       "      <td>198</td>\n",
       "      <td>128</td>\n",
       "      <td>kandola</td>\n",
       "      <td>none</td>\n",
       "      <td>0.500204</td>\n",
       "      <td>0.880469</td>\n",
       "      <td>m</td>\n",
       "      <td>4</td>\n",
       "      <td>1</td>\n",
       "    </tr>\n",
       "    <tr>\n",
       "      <th>799</th>\n",
       "      <td>199</td>\n",
       "      <td>88</td>\n",
       "      <td>werd</td>\n",
       "      <td>HF</td>\n",
       "      <td>0.482426</td>\n",
       "      <td>0.998699</td>\n",
       "      <td>m</td>\n",
       "      <td>4</td>\n",
       "      <td>0</td>\n",
       "    </tr>\n",
       "  </tbody>\n",
       "</table>\n",
       "<p>800 rows × 9 columns</p>\n",
       "</div>"
      ],
      "text/plain": [
       "     trial_order   id     word frequency  duration  reaction_time response  \\\n",
       "0              0  102   labber      none  0.405079       0.740607        m   \n",
       "1              1  163    plond      none  0.567166       0.662209        m   \n",
       "2              2  175   nergen      none  0.544580       1.063122        m   \n",
       "3              3   99      bij        HF  0.332517       0.751887        z   \n",
       "4              4   94   gedaan        HF  0.624558       0.748802        z   \n",
       "..           ...  ...      ...       ...       ...            ...      ...   \n",
       "795          195   50   gisten        LF  0.546621            NaN        z   \n",
       "796          196  195   pirrel      none  0.361179       0.733906        m   \n",
       "797          197   24  wrongel        LF  0.538685       0.802661        m   \n",
       "798          198  128  kandola      none  0.500204       0.880469        m   \n",
       "799          199   88     werd        HF  0.482426       0.998699        m   \n",
       "\n",
       "     subject  accuracy  \n",
       "0          1         1  \n",
       "1          1         1  \n",
       "2          1         1  \n",
       "3          1         1  \n",
       "4          1         1  \n",
       "..       ...       ...  \n",
       "795        4         1  \n",
       "796        4         1  \n",
       "797        4         0  \n",
       "798        4         1  \n",
       "799        4         0  \n",
       "\n",
       "[800 rows x 9 columns]"
      ]
     },
     "execution_count": 6,
     "metadata": {},
     "output_type": "execute_result"
    }
   ],
   "source": [
    "no_of_trials = np.shape(data)[0]\n",
    "nan_indices = np.random.permutation(no_of_trials)[0:60]\n",
    "data_NaN = data.copy()\n",
    "\n",
    "print(no_of_trials)\n",
    "\n",
    "# replace values\n",
    "data_NaN.loc[nan_indices, 'reaction_time'] =  np.nan #[row, column]\n",
    "data_NaN"
   ]
  },
  {
   "cell_type": "markdown",
   "metadata": {},
   "source": [
    "### remove invalid responses\n"
   ]
  },
  {
   "cell_type": "code",
   "execution_count": 7,
   "metadata": {},
   "outputs": [],
   "source": [
    "correct_responses = data_NaN['accuracy'] == 1\n",
    "data_correct = data_NaN[correct_responses]"
   ]
  },
  {
   "cell_type": "markdown",
   "metadata": {},
   "source": [
    "## 1. Summary"
   ]
  },
  {
   "cell_type": "markdown",
   "metadata": {},
   "source": [
    "### table: means per condition (word frequency)"
   ]
  },
  {
   "cell_type": "code",
   "execution_count": 8,
   "metadata": {},
   "outputs": [
    {
     "name": "stdout",
     "output_type": "stream",
     "text": [
      "  frequency   mean_RT    std_RT\n",
      "0        HF  0.786489  0.153926\n",
      "1        LF  0.860276  0.170360\n",
      "2      none  0.845369  0.170349\n"
     ]
    }
   ],
   "source": [
    "summary = data_correct.groupby(by='frequency').aggregate(\n",
    "    mean_RT=pd.NamedAgg('reaction_time', np.mean),\n",
    "    std_RT=pd.NamedAgg('reaction_time', np.std),\n",
    ")\n",
    "summary.reset_index(inplace = True)\n",
    "print(summary)"
   ]
  },
  {
   "cell_type": "markdown",
   "metadata": {},
   "source": [
    "## 2. Plot"
   ]
  },
  {
   "cell_type": "code",
   "execution_count": 9,
   "metadata": {
    "scrolled": true
   },
   "outputs": [
    {
     "data": {
      "image/png": "[encoded data removed]",
      "text/plain": [
       "<Figure size 432x288 with 1 Axes>"
      ]
     },
     "metadata": {
      "needs_background": "light"
     },
     "output_type": "display_data"
    }
   ],
   "source": [
    "violin = sns.violinplot(x=\"frequency\", y=\"reaction_time\", data= data_correct) # plot RTs per condition (word frequency)"
   ]
  },
  {
   "cell_type": "markdown",
   "metadata": {},
   "source": [
    "## 3. Stats"
   ]
  },
  {
   "cell_type": "markdown",
   "metadata": {},
   "source": [
    "### remove NaN values"
   ]
  },
  {
   "cell_type": "code",
   "execution_count": 10,
   "metadata": {},
   "outputs": [],
   "source": [
    "data_dropna = data_correct.copy() # copy so you still have dataset with NaN\n",
    "data_dropna = data_dropna.dropna() # drop NaN values"
   ]
  },
  {
   "cell_type": "markdown",
   "metadata": {},
   "source": [
    "### t-test non-words compared to HF and LF words (just to try, would use lmm)"
   ]
  },
  {
   "cell_type": "code",
   "execution_count": 11,
   "metadata": {},
   "outputs": [
    {
     "ename": "ValueError",
     "evalue": "unequal length arrays",
     "output_type": "error",
     "traceback": [
      "\u001b[1;31m---------------------------------------------------------------------------\u001b[0m",
      "\u001b[1;31mValueError\u001b[0m                                Traceback (most recent call last)",
      "\u001b[1;32m<ipython-input-11-bec8764a17f2>\u001b[0m in \u001b[0;36m<module>\u001b[1;34m\u001b[0m\n\u001b[0;32m      3\u001b[0m \u001b[1;32mfor\u001b[0m \u001b[0mcond\u001b[0m \u001b[1;32min\u001b[0m \u001b[1;33m[\u001b[0m\u001b[1;34m'LF'\u001b[0m\u001b[1;33m,\u001b[0m \u001b[1;34m'HF'\u001b[0m\u001b[1;33m]\u001b[0m\u001b[1;33m:\u001b[0m\u001b[1;33m\u001b[0m\u001b[1;33m\u001b[0m\u001b[0m\n\u001b[0;32m      4\u001b[0m     \u001b[0my\u001b[0m \u001b[1;33m=\u001b[0m \u001b[0mdata_dropna\u001b[0m\u001b[1;33m.\u001b[0m\u001b[0mloc\u001b[0m\u001b[1;33m[\u001b[0m\u001b[0mdata_dropna\u001b[0m\u001b[1;33m[\u001b[0m\u001b[1;34m'frequency'\u001b[0m\u001b[1;33m]\u001b[0m\u001b[1;33m==\u001b[0m \u001b[0mcond\u001b[0m\u001b[1;33m,\u001b[0m \u001b[1;34m'reaction_time'\u001b[0m\u001b[1;33m]\u001b[0m \u001b[1;31m# run test for both conditions relative to baseline\u001b[0m\u001b[1;33m\u001b[0m\u001b[1;33m\u001b[0m\u001b[0m\n\u001b[1;32m----> 5\u001b[1;33m     \u001b[0mprint\u001b[0m\u001b[1;33m(\u001b[0m\u001b[0mstats\u001b[0m\u001b[1;33m.\u001b[0m\u001b[0mttest_rel\u001b[0m\u001b[1;33m(\u001b[0m\u001b[0mbase\u001b[0m\u001b[1;33m,\u001b[0m \u001b[0my\u001b[0m\u001b[1;33m,\u001b[0m \u001b[0mnan_policy\u001b[0m\u001b[1;33m=\u001b[0m\u001b[1;34m'raise'\u001b[0m\u001b[1;33m)\u001b[0m\u001b[1;33m)\u001b[0m \u001b[1;31m# raise warning for NaN\u001b[0m\u001b[1;33m\u001b[0m\u001b[1;33m\u001b[0m\u001b[0m\n\u001b[0m\u001b[0;32m      6\u001b[0m \u001b[1;33m\u001b[0m\u001b[0m\n",
      "\u001b[1;32mk:\\phd\\imprscourses\\python\\venv\\lib\\site-packages\\scipy\\stats\\stats.py\u001b[0m in \u001b[0;36mttest_rel\u001b[1;34m(a, b, axis, nan_policy)\u001b[0m\n\u001b[0;32m   5746\u001b[0m     \u001b[0mnb\u001b[0m \u001b[1;33m=\u001b[0m \u001b[0m_get_len\u001b[0m\u001b[1;33m(\u001b[0m\u001b[0mb\u001b[0m\u001b[1;33m,\u001b[0m \u001b[0maxis\u001b[0m\u001b[1;33m,\u001b[0m \u001b[1;34m\"second argument\"\u001b[0m\u001b[1;33m)\u001b[0m\u001b[1;33m\u001b[0m\u001b[1;33m\u001b[0m\u001b[0m\n\u001b[0;32m   5747\u001b[0m     \u001b[1;32mif\u001b[0m \u001b[0mna\u001b[0m \u001b[1;33m!=\u001b[0m \u001b[0mnb\u001b[0m\u001b[1;33m:\u001b[0m\u001b[1;33m\u001b[0m\u001b[1;33m\u001b[0m\u001b[0m\n\u001b[1;32m-> 5748\u001b[1;33m         \u001b[1;32mraise\u001b[0m \u001b[0mValueError\u001b[0m\u001b[1;33m(\u001b[0m\u001b[1;34m'unequal length arrays'\u001b[0m\u001b[1;33m)\u001b[0m\u001b[1;33m\u001b[0m\u001b[1;33m\u001b[0m\u001b[0m\n\u001b[0m\u001b[0;32m   5749\u001b[0m \u001b[1;33m\u001b[0m\u001b[0m\n\u001b[0;32m   5750\u001b[0m     \u001b[1;32mif\u001b[0m \u001b[0mna\u001b[0m \u001b[1;33m==\u001b[0m \u001b[1;36m0\u001b[0m\u001b[1;33m:\u001b[0m\u001b[1;33m\u001b[0m\u001b[1;33m\u001b[0m\u001b[0m\n",
      "\u001b[1;31mValueError\u001b[0m: unequal length arrays"
     ]
    }
   ],
   "source": [
    "base = data_dropna.loc[data_dropna['frequency']=='none', 'reaction_time'] # extract rows and columns\n",
    "\n",
    "for cond in ['LF', 'HF']:\n",
    "    y = data_dropna.loc[data_dropna['frequency']== cond, 'reaction_time'] # run test for both conditions relative to baseline\n",
    "    print(stats.ttest_rel(base, y, nan_policy='raise')) # raise warning for NaN\n",
    "\n"
   ]
  },
  {
   "cell_type": "markdown",
   "metadata": {},
   "source": [
    "### Linear Mixed Models"
   ]
  },
  {
   "cell_type": "code",
   "execution_count": 13,
   "metadata": {},
   "outputs": [
    {
     "name": "stderr",
     "output_type": "stream",
     "text": [
      "k:\\phd\\imprscourses\\python\\venv\\lib\\site-packages\\statsmodels\\regression\\mixed_linear_model.py:2237: ConvergenceWarning: The MLE may be on the boundary of the parameter space.\n",
      "  warnings.warn(msg, ConvergenceWarning)\n"
     ]
    },
    {
     "name": "stdout",
     "output_type": "stream",
     "text": [
      "           Mixed Linear Model Regression Results\n",
      "===========================================================\n",
      "Model:            MixedLM Dependent Variable: reaction_time\n",
      "No. Observations: 633     Method:             REML         \n",
      "No. Groups:       193     Scale:              0.0269       \n",
      "Min. group size:  1       Log-Likelihood:     228.2738     \n",
      "Max. group size:  4       Converged:          Yes          \n",
      "Mean group size:  3.3                                      \n",
      "-----------------------------------------------------------\n",
      "                  Coef. Std.Err.   z    P>|z| [0.025 0.975]\n",
      "-----------------------------------------------------------\n",
      "Intercept         0.786    0.014 57.404 0.000  0.760  0.813\n",
      "frequency[T.LF]   0.074    0.020  3.638 0.000  0.034  0.115\n",
      "frequency[T.none] 0.059    0.017  3.566 0.000  0.027  0.091\n",
      "id Var            0.001    0.007                           \n",
      "===========================================================\n",
      "\n"
     ]
    }
   ],
   "source": [
    "import statsmodels.api as sm\n",
    "from statsmodels.stats.anova import AnovaRM\n",
    "import statsmodels.formula.api as smf\n",
    "\n",
    "lmm = smf.mixedlm(\"reaction_time ~ frequency\", data_dropna, groups = 'id', re_formula='1')\n",
    "lmmf = lmm.fit()\n",
    "\n",
    "print(lmmf.summary())"
   ]
  }
 ],
 "metadata": {
  "kernelspec": {
   "display_name": "Python 3",
   "language": "python",
   "name": "python3"
  },
  "language_info": {
   "codemirror_mode": {
    "name": "ipython",
    "version": 3
   },
   "file_extension": ".py",
   "mimetype": "text/x-python",
   "name": "python",
   "nbconvert_exporter": "python",
   "pygments_lexer": "ipython3",
   "version": "3.8.6"
  }
 },
 "nbformat": 4,
 "nbformat_minor": 4
}
